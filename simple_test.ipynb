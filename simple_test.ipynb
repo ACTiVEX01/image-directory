{
 "cells": [
  {
   "cell_type": "markdown",
   "id": "0701a379",
   "metadata": {},
   "source": [
    "# Test Notebook\n",
    "\n",
    "This is a test."
   ]
  },
  {
   "cell_type": "code",
   "execution_count": null,
   "id": "6903b979",
   "metadata": {},
   "outputs": [],
   "source": [
    "print(\"Hello, World!\")"
   ]
  }
 ],
 "metadata": {},
 "nbformat": 4,
 "nbformat_minor": 5
}
